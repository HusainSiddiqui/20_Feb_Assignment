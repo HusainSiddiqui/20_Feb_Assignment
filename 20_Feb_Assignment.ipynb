{
 "cells": [
  {
   "cell_type": "markdown",
   "metadata": {},
   "source": [
    "Q1. Explain GET and POST methods."
   ]
  },
  {
   "cell_type": "code",
   "execution_count": null,
   "metadata": {},
   "outputs": [],
   "source": [
    "GET and POST are HTTP methods used to send data from a client (such as a web browser) to a server over the internet."
   ]
  },
  {
   "cell_type": "markdown",
   "metadata": {},
   "source": [
    "GET method:\n",
    "\n",
    "The GET method is used to retrieve data from the server. \n",
    "\n",
    "It sends a request for data to the server and the server responds with the requested data. \n",
    "\n",
    "When a user clicks on a link or types a URL into the browser's address bar,a GET request is automatically sent to the server. \n",
    "\n",
    "The data being requested is included in the URL itself as query parameters."
   ]
  },
  {
   "cell_type": "markdown",
   "metadata": {},
   "source": [
    "Example:\n",
    "    https://example.com/search **?query=product_name**"
   ]
  },
  {
   "cell_type": "markdown",
   "metadata": {},
   "source": [
    "POST method:\n",
    "\n",
    "The POST method is used to send data to the server to create or update a resource. \n",
    "\n",
    "This data is sent in the body of the request rather than in the URL, and can include larger amounts of data than a GET request."
   ]
  },
  {
   "cell_type": "markdown",
   "metadata": {},
   "source": [
    "**Example**\n",
    "\n",
    "When a user submits a form on a website, the data entered in the form is sent to the server using a POST request.\n",
    "\n",
    "The server then uses this data to create a new account or update an existing one."
   ]
  },
  {
   "cell_type": "markdown",
   "metadata": {},
   "source": [
    "**The main difference between GET and POST methods is that:**\n",
    "\n",
    "GET requests retrieve data while POST requests submit data to be processed. Additionally, GET requests can be cached by browsers and servers, while POST requests cannot be cached."
   ]
  },
  {
   "cell_type": "markdown",
   "metadata": {},
   "source": [
    "Q2. Why is request used in Flask?"
   ]
  },
  {
   "cell_type": "markdown",
   "metadata": {},
   "source": [
    "In Flask, the request object is used to handle HTTP requests sent to a web application.\n",
    "\n",
    "The request object contains information about the current HTTP request, such as the URL, form data, headers, and more.\n",
    "\n",
    "It allows you to access and manipulate this data in your Flask application."
   ]
  },
  {
   "cell_type": "markdown",
   "metadata": {},
   "source": [
    "Q3. Why is redirect() used in Flask?"
   ]
  },
  {
   "cell_type": "markdown",
   "metadata": {},
   "source": [
    "In Flask, the redirect() function is used to redirect a user to a different URL.\n",
    "\n",
    "When a user accesses a certain URL in your Flask application, you may want to redirect them to a different page based on certain conditions. \n",
    "\n",
    "Example: If a user is not authenticated, you may want to redirect them to the login page."
   ]
  },
  {
   "cell_type": "code",
   "execution_count": null,
   "metadata": {},
   "outputs": [],
   "source": [
    "from flask import Flask, redirect, url_for, request\n",
    "\n",
    "app = Flask(__name__)\n",
    "\n",
    "@app.route('/')\n",
    "def index():\n",
    "    # Redirect to the login page if the user is not authenticated\n",
    "    if not authenticated():\n",
    "        return redirect(url_for('login'))\n",
    "    else:\n",
    "        return 'Hello, world!'\n",
    "\n",
    "@app.route('/login')\n",
    "def login():\n",
    "    # Show the login page\n",
    "    return 'Please log in'\n",
    "\n",
    "if __name__ == '__main__':\n",
    "    app.run()"
   ]
  },
  {
   "cell_type": "markdown",
   "metadata": {},
   "source": [
    "Q4. What are templates in Flask? Why is the render_template() function used?"
   ]
  },
  {
   "cell_type": "markdown",
   "metadata": {},
   "source": [
    "In Flask, a template is a file that contains HTML code with placeholders for dynamic content.\n",
    "\n",
    "Templates allow you to separate the presentation (i.e., the HTML code) from the logic (i.e., the Python code) in your Flask application. \n",
    "\n",
    "This makes it easier to maintain and modify your application, as you can make changes to the presentation layer without affecting the underlying code."
   ]
  },
  {
   "cell_type": "markdown",
   "metadata": {},
   "source": [
    "Q5. Create a simple API. Use Postman to test it. Attach the screenshot of the output in the Jupyter Notebook."
   ]
  },
  {
   "cell_type": "code",
   "execution_count": null,
   "metadata": {},
   "outputs": [],
   "source": [
    "from flask import Flask, request,render_template,jsonify\n",
    "\n",
    "app = Flask(__name__, template_folder='templates')\n",
    "\n",
    "@app.route('/')\n",
    "def home_page():\n",
    "    #name = request.args.get('name', 'World')\n",
    "    return render_template('index.html')\n",
    "\n",
    "@app.route('/math',methods=['POST','GET'])\n",
    "def math_operation():\n",
    "\n",
    "    if request.method=='POST':\n",
    "        #ops=request.form['operation']\n",
    "        ops = request.form['ops']\n",
    "        num1=int(request.form['num1'])\n",
    "        num2=int(request.form['num2'])\n",
    "        if ops=='add':\n",
    "            r=num1+num2\n",
    "            result=\"the sum of \"+str(num1)+\" and \"+str(num2)+\" is \"+str(r)\n",
    "        if ops=='sub':\n",
    "            r=num1-num2\n",
    "            result=\"the subtract of \"+str(num1)+\" and \"+str(num2)+\" is \"+str(r)\n",
    "        if ops=='mul':\n",
    "            r=num1*num2\n",
    "            result=\"the multiply of \"+str(num1)+\" and \"+str(num2)+\" is \"+str(r)\n",
    "        if ops=='div':\n",
    "            r=num1/num2\n",
    "            result=\"the division of \"+str(num1)+\" and \"+str(num2)+\" is \"+str(r)\n",
    "        return result\n",
    "\n",
    "if __name__ == '__main__':\n",
    "    app.run(debug=True)"
   ]
  },
  {
   "cell_type": "markdown",
   "metadata": {},
   "source": [
    "![order of execution](https://github.com/HusainSiddiqui/20_Feb_Assignment-/blob/main/postman_add.png?raw=true)"
   ]
  },
  {
   "cell_type": "markdown",
   "metadata": {},
   "source": [
    "![order of execution](https://github.com/HusainSiddiqui/20_Feb_Assignment-/blob/main/postman_div.png?raw=true)"
   ]
  },
  {
   "cell_type": "markdown",
   "metadata": {},
   "source": [
    "![order of execution](https://github.com/HusainSiddiqui/20_Feb_Assignment-/blob/main/postman_mul.png?raw=true)"
   ]
  },
  {
   "cell_type": "markdown",
   "metadata": {},
   "source": [
    "![order of execution](https://github.com/HusainSiddiqui/20_Feb_Assignment-/blob/main/postman_sub.png?raw=true)"
   ]
  },
  {
   "cell_type": "code",
   "execution_count": null,
   "metadata": {},
   "outputs": [],
   "source": []
  }
 ],
 "metadata": {
  "kernelspec": {
   "display_name": "Python 3",
   "language": "python",
   "name": "python3"
  },
  "language_info": {
   "codemirror_mode": {
    "name": "ipython",
    "version": 3
   },
   "file_extension": ".py",
   "mimetype": "text/x-python",
   "name": "python",
   "nbconvert_exporter": "python",
   "pygments_lexer": "ipython3",
   "version": "3.6.5"
  }
 },
 "nbformat": 4,
 "nbformat_minor": 2
}
